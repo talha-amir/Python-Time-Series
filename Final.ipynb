{
 "cells": [
  {
   "cell_type": "code",
   "execution_count": 36,
   "metadata": {},
   "outputs": [],
   "source": [
    "import pandas as pd\n",
    "import numpy as np\n",
    "import matplotlib.pyplot as plt\n",
    "from datetime import datetime\n",
    "from pandas import Series\n",
    "import plotly.express as px\n",
    "%matplotlib inline\n"
   ]
  },
  {
   "cell_type": "code",
   "execution_count": 37,
   "metadata": {},
   "outputs": [],
   "source": [
    "train = pd.read_csv('Train.csv')\n",
    "test = pd.read_csv('Test.csv')"
   ]
  },
  {
   "cell_type": "code",
   "execution_count": 38,
   "metadata": {},
   "outputs": [],
   "source": [
    "TEST_ORIGINAL = test.copy()\n",
    "TRAIN_ORIGINAL = train.copy()"
   ]
  },
  {
   "cell_type": "code",
   "execution_count": 39,
   "metadata": {},
   "outputs": [
    {
     "output_type": "execute_result",
     "data": {
      "text/plain": [
       "(Index(['ID', 'Datetime'], dtype='object'),\n",
       " Index(['ID', 'Datetime', 'Count'], dtype='object'))"
      ]
     },
     "metadata": {},
     "execution_count": 39
    }
   ],
   "source": [
    "test.columns,train.columns"
   ]
  },
  {
   "cell_type": "code",
   "execution_count": 40,
   "metadata": {},
   "outputs": [],
   "source": [
    "train['Datetime'] = pd.to_datetime(train.Datetime,format=\"%d-%m-%Y %H:%M\")\n",
    "test['Datetime'] = pd.to_datetime(test.Datetime,format=\"%d-%m-%Y %H:%M\")"
   ]
  },
  {
   "cell_type": "code",
   "execution_count": 41,
   "metadata": {},
   "outputs": [],
   "source": [
    "TEST_ORIGINAL['Datetime'] = pd.to_datetime(TEST_ORIGINAL.Datetime,format=\"%d-%m-%Y %H:%M\")\n",
    "TRAIN_ORIGINAL['Datetime'] = pd.to_datetime(TRAIN_ORIGINAL.Datetime,format=\"%d-%m-%Y %H:%M\")"
   ]
  },
  {
   "cell_type": "code",
   "execution_count": 42,
   "metadata": {},
   "outputs": [],
   "source": [
    "for i in (train,test,TRAIN_ORIGINAL,TEST_ORIGINAL):\n",
    "    i['year'] = i.Datetime.dt.year\n",
    "    i['month'] = i.Datetime.dt.month\n",
    "    i['day'] = i.Datetime.dt.day\n",
    "    i['hour'] = i.Datetime.dt.hour"
   ]
  },
  {
   "cell_type": "code",
   "execution_count": 43,
   "metadata": {},
   "outputs": [],
   "source": [
    "train['day_of_week'] = train.Datetime.dt.day_of_week"
   ]
  },
  {
   "cell_type": "code",
   "execution_count": 44,
   "metadata": {},
   "outputs": [],
   "source": [
    "weekends = lambda x : True if(x == 5 or x == 6) else False \n",
    "train['weekend'] = train.day_of_week.apply(weekends)"
   ]
  },
  {
   "cell_type": "code",
   "execution_count": 45,
   "metadata": {},
   "outputs": [],
   "source": [
    "train.index = train.Datetime"
   ]
  },
  {
   "cell_type": "code",
   "execution_count": 46,
   "metadata": {},
   "outputs": [],
   "source": [
    "train.drop(['ID','Datetime'],axis=1,inplace=True)"
   ]
  },
  {
   "cell_type": "code",
   "execution_count": 49,
   "metadata": {},
   "outputs": [
    {
     "output_type": "execute_result",
     "data": {
      "text/plain": [
       "                     Count  year  month  day  hour  day_of_week  weekend\n",
       "Datetime                                                                \n",
       "2012-08-25 00:00:00      8  2012      8   25     0            5     True\n",
       "2012-08-25 01:00:00      2  2012      8   25     1            5     True\n",
       "2012-08-25 02:00:00      6  2012      8   25     2            5     True\n",
       "2012-08-25 03:00:00      2  2012      8   25     3            5     True\n",
       "2012-08-25 04:00:00      2  2012      8   25     4            5     True\n",
       "...                    ...   ...    ...  ...   ...          ...      ...\n",
       "2014-09-25 19:00:00    868  2014      9   25    19            3    False\n",
       "2014-09-25 20:00:00    732  2014      9   25    20            3    False\n",
       "2014-09-25 21:00:00    702  2014      9   25    21            3    False\n",
       "2014-09-25 22:00:00    580  2014      9   25    22            3    False\n",
       "2014-09-25 23:00:00    534  2014      9   25    23            3    False\n",
       "\n",
       "[18288 rows x 7 columns]"
      ],
      "text/html": "<div>\n<style scoped>\n    .dataframe tbody tr th:only-of-type {\n        vertical-align: middle;\n    }\n\n    .dataframe tbody tr th {\n        vertical-align: top;\n    }\n\n    .dataframe thead th {\n        text-align: right;\n    }\n</style>\n<table border=\"1\" class=\"dataframe\">\n  <thead>\n    <tr style=\"text-align: right;\">\n      <th></th>\n      <th>Count</th>\n      <th>year</th>\n      <th>month</th>\n      <th>day</th>\n      <th>hour</th>\n      <th>day_of_week</th>\n      <th>weekend</th>\n    </tr>\n    <tr>\n      <th>Datetime</th>\n      <th></th>\n      <th></th>\n      <th></th>\n      <th></th>\n      <th></th>\n      <th></th>\n      <th></th>\n    </tr>\n  </thead>\n  <tbody>\n    <tr>\n      <th>2012-08-25 00:00:00</th>\n      <td>8</td>\n      <td>2012</td>\n      <td>8</td>\n      <td>25</td>\n      <td>0</td>\n      <td>5</td>\n      <td>True</td>\n    </tr>\n    <tr>\n      <th>2012-08-25 01:00:00</th>\n      <td>2</td>\n      <td>2012</td>\n      <td>8</td>\n      <td>25</td>\n      <td>1</td>\n      <td>5</td>\n      <td>True</td>\n    </tr>\n    <tr>\n      <th>2012-08-25 02:00:00</th>\n      <td>6</td>\n      <td>2012</td>\n      <td>8</td>\n      <td>25</td>\n      <td>2</td>\n      <td>5</td>\n      <td>True</td>\n    </tr>\n    <tr>\n      <th>2012-08-25 03:00:00</th>\n      <td>2</td>\n      <td>2012</td>\n      <td>8</td>\n      <td>25</td>\n      <td>3</td>\n      <td>5</td>\n      <td>True</td>\n    </tr>\n    <tr>\n      <th>2012-08-25 04:00:00</th>\n      <td>2</td>\n      <td>2012</td>\n      <td>8</td>\n      <td>25</td>\n      <td>4</td>\n      <td>5</td>\n      <td>True</td>\n    </tr>\n    <tr>\n      <th>...</th>\n      <td>...</td>\n      <td>...</td>\n      <td>...</td>\n      <td>...</td>\n      <td>...</td>\n      <td>...</td>\n      <td>...</td>\n    </tr>\n    <tr>\n      <th>2014-09-25 19:00:00</th>\n      <td>868</td>\n      <td>2014</td>\n      <td>9</td>\n      <td>25</td>\n      <td>19</td>\n      <td>3</td>\n      <td>False</td>\n    </tr>\n    <tr>\n      <th>2014-09-25 20:00:00</th>\n      <td>732</td>\n      <td>2014</td>\n      <td>9</td>\n      <td>25</td>\n      <td>20</td>\n      <td>3</td>\n      <td>False</td>\n    </tr>\n    <tr>\n      <th>2014-09-25 21:00:00</th>\n      <td>702</td>\n      <td>2014</td>\n      <td>9</td>\n      <td>25</td>\n      <td>21</td>\n      <td>3</td>\n      <td>False</td>\n    </tr>\n    <tr>\n      <th>2014-09-25 22:00:00</th>\n      <td>580</td>\n      <td>2014</td>\n      <td>9</td>\n      <td>25</td>\n      <td>22</td>\n      <td>3</td>\n      <td>False</td>\n    </tr>\n    <tr>\n      <th>2014-09-25 23:00:00</th>\n      <td>534</td>\n      <td>2014</td>\n      <td>9</td>\n      <td>25</td>\n      <td>23</td>\n      <td>3</td>\n      <td>False</td>\n    </tr>\n  </tbody>\n</table>\n<p>18288 rows × 7 columns</p>\n</div>"
     },
     "metadata": {},
     "execution_count": 49
    }
   ],
   "source": [
    "train"
   ]
  },
  {
   "cell_type": "code",
   "execution_count": 12,
   "metadata": {},
   "outputs": [],
   "source": []
  },
  {
   "cell_type": "code",
   "execution_count": null,
   "metadata": {},
   "outputs": [],
   "source": []
  },
  {
   "cell_type": "code",
   "execution_count": 13,
   "metadata": {},
   "outputs": [],
   "source": []
  },
  {
   "cell_type": "code",
   "execution_count": 14,
   "metadata": {},
   "outputs": [],
   "source": []
  },
  {
   "cell_type": "code",
   "execution_count": 48,
   "metadata": {},
   "outputs": [
    {
     "output_type": "execute_result",
     "data": {
      "text/plain": [
       "                     Count  year  month  day  hour  day_of_week  weekend\n",
       "Datetime                                                                \n",
       "2012-08-25 00:00:00      8  2012      8   25     0            5     True\n",
       "2012-08-25 01:00:00      2  2012      8   25     1            5     True\n",
       "2012-08-25 02:00:00      6  2012      8   25     2            5     True\n",
       "2012-08-25 03:00:00      2  2012      8   25     3            5     True\n",
       "2012-08-25 04:00:00      2  2012      8   25     4            5     True\n",
       "...                    ...   ...    ...  ...   ...          ...      ...\n",
       "2014-09-25 19:00:00    868  2014      9   25    19            3    False\n",
       "2014-09-25 20:00:00    732  2014      9   25    20            3    False\n",
       "2014-09-25 21:00:00    702  2014      9   25    21            3    False\n",
       "2014-09-25 22:00:00    580  2014      9   25    22            3    False\n",
       "2014-09-25 23:00:00    534  2014      9   25    23            3    False\n",
       "\n",
       "[18288 rows x 7 columns]"
      ],
      "text/html": "<div>\n<style scoped>\n    .dataframe tbody tr th:only-of-type {\n        vertical-align: middle;\n    }\n\n    .dataframe tbody tr th {\n        vertical-align: top;\n    }\n\n    .dataframe thead th {\n        text-align: right;\n    }\n</style>\n<table border=\"1\" class=\"dataframe\">\n  <thead>\n    <tr style=\"text-align: right;\">\n      <th></th>\n      <th>Count</th>\n      <th>year</th>\n      <th>month</th>\n      <th>day</th>\n      <th>hour</th>\n      <th>day_of_week</th>\n      <th>weekend</th>\n    </tr>\n    <tr>\n      <th>Datetime</th>\n      <th></th>\n      <th></th>\n      <th></th>\n      <th></th>\n      <th></th>\n      <th></th>\n      <th></th>\n    </tr>\n  </thead>\n  <tbody>\n    <tr>\n      <th>2012-08-25 00:00:00</th>\n      <td>8</td>\n      <td>2012</td>\n      <td>8</td>\n      <td>25</td>\n      <td>0</td>\n      <td>5</td>\n      <td>True</td>\n    </tr>\n    <tr>\n      <th>2012-08-25 01:00:00</th>\n      <td>2</td>\n      <td>2012</td>\n      <td>8</td>\n      <td>25</td>\n      <td>1</td>\n      <td>5</td>\n      <td>True</td>\n    </tr>\n    <tr>\n      <th>2012-08-25 02:00:00</th>\n      <td>6</td>\n      <td>2012</td>\n      <td>8</td>\n      <td>25</td>\n      <td>2</td>\n      <td>5</td>\n      <td>True</td>\n    </tr>\n    <tr>\n      <th>2012-08-25 03:00:00</th>\n      <td>2</td>\n      <td>2012</td>\n      <td>8</td>\n      <td>25</td>\n      <td>3</td>\n      <td>5</td>\n      <td>True</td>\n    </tr>\n    <tr>\n      <th>2012-08-25 04:00:00</th>\n      <td>2</td>\n      <td>2012</td>\n      <td>8</td>\n      <td>25</td>\n      <td>4</td>\n      <td>5</td>\n      <td>True</td>\n    </tr>\n    <tr>\n      <th>...</th>\n      <td>...</td>\n      <td>...</td>\n      <td>...</td>\n      <td>...</td>\n      <td>...</td>\n      <td>...</td>\n      <td>...</td>\n    </tr>\n    <tr>\n      <th>2014-09-25 19:00:00</th>\n      <td>868</td>\n      <td>2014</td>\n      <td>9</td>\n      <td>25</td>\n      <td>19</td>\n      <td>3</td>\n      <td>False</td>\n    </tr>\n    <tr>\n      <th>2014-09-25 20:00:00</th>\n      <td>732</td>\n      <td>2014</td>\n      <td>9</td>\n      <td>25</td>\n      <td>20</td>\n      <td>3</td>\n      <td>False</td>\n    </tr>\n    <tr>\n      <th>2014-09-25 21:00:00</th>\n      <td>702</td>\n      <td>2014</td>\n      <td>9</td>\n      <td>25</td>\n      <td>21</td>\n      <td>3</td>\n      <td>False</td>\n    </tr>\n    <tr>\n      <th>2014-09-25 22:00:00</th>\n      <td>580</td>\n      <td>2014</td>\n      <td>9</td>\n      <td>25</td>\n      <td>22</td>\n      <td>3</td>\n      <td>False</td>\n    </tr>\n    <tr>\n      <th>2014-09-25 23:00:00</th>\n      <td>534</td>\n      <td>2014</td>\n      <td>9</td>\n      <td>25</td>\n      <td>23</td>\n      <td>3</td>\n      <td>False</td>\n    </tr>\n  </tbody>\n</table>\n<p>18288 rows × 7 columns</p>\n</div>"
     },
     "metadata": {},
     "execution_count": 48
    }
   ],
   "source": [
    "train"
   ]
  },
  {
   "cell_type": "code",
   "execution_count": null,
   "metadata": {},
   "outputs": [],
   "source": []
  }
 ],
 "metadata": {
  "kernelspec": {
   "name": "python385jvsc74a57bd0c381403082343f36537664232c019bf019babc1a361cb9479aa9b3e1ecbc812a",
   "display_name": "Python 3.8.5 64-bit ('.venv')"
  },
  "language_info": {
   "codemirror_mode": {
    "name": "ipython",
    "version": 3
   },
   "file_extension": ".py",
   "mimetype": "text/x-python",
   "name": "python",
   "nbconvert_exporter": "python",
   "pygments_lexer": "ipython3",
   "version": "3.8.5-final"
  },
  "metadata": {
   "interpreter": {
    "hash": "c381403082343f36537664232c019bf019babc1a361cb9479aa9b3e1ecbc812a"
   }
  },
  "varInspector": {
   "cols": {
    "lenName": 16,
    "lenType": 16,
    "lenVar": 40
   },
   "kernels_config": {
    "python": {
     "delete_cmd_postfix": "",
     "delete_cmd_prefix": "del ",
     "library": "var_list.py",
     "varRefreshCmd": "print(var_dic_list())"
    },
    "r": {
     "delete_cmd_postfix": ") ",
     "delete_cmd_prefix": "rm(",
     "library": "var_list.r",
     "varRefreshCmd": "cat(var_dic_list()) "
    }
   },
   "types_to_exclude": [
    "module",
    "function",
    "builtin_function_or_method",
    "instance",
    "_Feature"
   ],
   "window_display": false
  }
 },
 "nbformat": 4,
 "nbformat_minor": 2
}